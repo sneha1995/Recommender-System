{
 "cells": [
  {
   "cell_type": "code",
   "execution_count": null,
   "metadata": {
    "collapsed": true
   },
   "outputs": [],
   "source": [
    "import gzip\n",
    "from collections import defaultdict\n",
    "\n",
    "def readGz(f):\n",
    "    for l in gzip.open(f):\n",
    "        yield eval(l)"
   ]
  },
  {
   "cell_type": "markdown",
   "metadata": {},
   "source": [
    "# Visit Prediction"
   ]
  },
  {
   "cell_type": "markdown",
   "metadata": {},
   "source": [
    "## Method1: When we are preserving Bias in data"
   ]
  },
  {
   "cell_type": "code",
   "execution_count": null,
   "metadata": {
    "collapsed": true
   },
   "outputs": [],
   "source": [
    "users =[]\n",
    "business = []\n",
    "total = set()\n",
    "for l in readGz(\"train.json.gz\"):\n",
    "    a = (l['userID'],l['businessID'])\n",
    "    total.add(a)\n",
    "    users += [l['userID']]\n",
    "    business += [l['businessID']]"
   ]
  },
  {
   "cell_type": "code",
   "execution_count": null,
   "metadata": {
    "collapsed": true
   },
   "outputs": [],
   "source": [
    "data =[]\n",
    "for l in readGz(\"train.json.gz\"):\n",
    "    data += [[l['userID'],l['businessID'],1]]"
   ]
  },
  {
   "cell_type": "code",
   "execution_count": null,
   "metadata": {
    "collapsed": true
   },
   "outputs": [],
   "source": [
    "from random import shuffle\n",
    "shuffle(users)\n",
    "shuffle(business)"
   ]
  },
  {
   "cell_type": "code",
   "execution_count": null,
   "metadata": {
    "collapsed": true
   },
   "outputs": [],
   "source": [
    "def check(user, business):\n",
    "    if (user, business) in total:\n",
    "            return False\n",
    "    return True"
   ]
  },
  {
   "cell_type": "code",
   "execution_count": null,
   "metadata": {
    "collapsed": true
   },
   "outputs": [],
   "source": [
    "from random import randint\n",
    "j =0\n",
    "negative = set()\n",
    "\n",
    "while (j < 100000):\n",
    "    x = randint(0, len(users)-1)\n",
    "    y = randint(0, len(business)-1)\n",
    "    if(check(users[x], business[y])) and (users[x], business[y]) not in negative:\n",
    "            a= (users[x], business[y])\n",
    "            negative.add(a)\n",
    "            j = j+1\n",
    "\n",
    "train = data[:len(data)/2]\n",
    "valid = data[len(data)/2:]\n",
    "\n",
    "new_n =[]\n",
    "for l in negative:\n",
    "    new_n += [list(l)]\n",
    "for l in new_n:\n",
    "    l.extend([0])\n",
    "\n",
    "valid += new_n"
   ]
  },
  {
   "cell_type": "code",
   "execution_count": null,
   "metadata": {
    "collapsed": true
   },
   "outputs": [],
   "source": [
    "import pickle\n",
    "\n",
    "pickle.dump(valid, open(\"valid_data\",\"wb\"))"
   ]
  },
  {
   "cell_type": "code",
   "execution_count": null,
   "metadata": {
    "collapsed": true
   },
   "outputs": [],
   "source": [
    "businessCount = defaultdict(int)\n",
    "totalPurchases = 0\n",
    "\n",
    "for l in train:\n",
    "    user,business = l[0],l[1]\n",
    "    businessCount[business] += 1\n",
    "    totalPurchases += 1\n",
    "\n",
    "mostPopular = [(businessCount[x], x) for x in businessCount]\n",
    "mostPopular.sort()\n",
    "mostPopular.reverse()\n"
   ]
  },
  {
   "cell_type": "code",
   "execution_count": null,
   "metadata": {
    "collapsed": true
   },
   "outputs": [],
   "source": [
    "return1 = set()\n",
    "count = 0\n",
    "for ic, i in mostPopular:\n",
    "    count += ic\n",
    "    return1.add(i)\n",
    "    if count > totalPurchases*0.5: break"
   ]
  },
  {
   "cell_type": "code",
   "execution_count": null,
   "metadata": {
    "collapsed": true
   },
   "outputs": [],
   "source": [
    "true =0\n",
    "false =0\n",
    "for l in valid:\n",
    "    u,i,check = l[0], l[1], l[2]\n",
    "    if i in return1 and check ==1:\n",
    "        true = true+1\n",
    "    if i not in return1 and check ==0:\n",
    "        false = false+1"
   ]
  },
  {
   "cell_type": "code",
   "execution_count": null,
   "metadata": {
    "collapsed": true
   },
   "outputs": [],
   "source": [
    "accuracy = 100.0*(true+false)/len(valid)\n",
    "print (\"%Accuracy on validation: \" + str(accuracy))"
   ]
  },
  {
   "cell_type": "markdown",
   "metadata": {},
   "source": [
    "## Method2: When we are not preserving Bias in data"
   ]
  },
  {
   "cell_type": "code",
   "execution_count": null,
   "metadata": {
    "collapsed": true
   },
   "outputs": [],
   "source": [
    "user = []\n",
    "busi = []\n",
    "\n",
    "for d in readGz(\"train.json.gz\"):\n",
    "    if d['userID'] not in user:\n",
    "        user.append(d['userID'])\n",
    "        \n",
    "    if d['businessID'] not in busi:\n",
    "        busi.append(d['businessID'])"
   ]
  },
  {
   "cell_type": "code",
   "execution_count": null,
   "metadata": {
    "collapsed": true
   },
   "outputs": [],
   "source": [
    "def check(user, business):\n",
    "    if (user, business) in total:\n",
    "            return False\n",
    "    return True"
   ]
  },
  {
   "cell_type": "code",
   "execution_count": null,
   "metadata": {
    "collapsed": true
   },
   "outputs": [],
   "source": [
    "from random import randint\n",
    "negative_1 =set()\n",
    "k =0\n",
    "while(k<50000):\n",
    "    x = randint(0, len(user)-1)\n",
    "    y = randint(0, len(busi)-1)\n",
    "    if check(user[x], busi[y]) and (user[x], busi[y]) not in negative_1:\n",
    "            a= (user[x], busi[y])\n",
    "            negative_1.add(a)\n",
    "            k = k+1"
   ]
  },
  {
   "cell_type": "code",
   "execution_count": null,
   "metadata": {
    "collapsed": true
   },
   "outputs": [],
   "source": [
    "new_n_1 =[]\n",
    "for l in negative_1:\n",
    "    new_n_1 += [list(l)]\n",
    "for l in new_n_1:\n",
    "    l.extend([0])\n",
    "    \n",
    "valid_1 = data[3*len(data)/4:] + new_n_1"
   ]
  },
  {
   "cell_type": "code",
   "execution_count": null,
   "metadata": {
    "collapsed": true
   },
   "outputs": [],
   "source": [
    "pickle.dump(valid_1, open(\"valid_data\",\"wb\"))"
   ]
  },
  {
   "cell_type": "code",
   "execution_count": null,
   "metadata": {
    "collapsed": true
   },
   "outputs": [],
   "source": [
    "true =0\n",
    "false =0\n",
    "for l in valid_1:\n",
    "    u,i,check = l[0], l[1], l[2]\n",
    "    if i in return1 and check ==1:\n",
    "        true = true+1\n",
    "    if i not in return1 and check ==0:\n",
    "        false = false+1"
   ]
  },
  {
   "cell_type": "code",
   "execution_count": null,
   "metadata": {
    "collapsed": true
   },
   "outputs": [],
   "source": [
    "accuracy = 100.0*(true+false)/len(valid)\n",
    "print (\"%Accuracy on validation: \" + str(accuracy))"
   ]
  },
  {
   "cell_type": "markdown",
   "metadata": {},
   "source": [
    "\n",
    "The existing ‘visit prediction’ baseline just returns True if the business in question is ‘popular,’ using\n",
    "a threshold of the 50th percentile of popularity (totalVisits/2). Assuming that the ‘non-visited’ test\n",
    "examples are a random sample of user-visit pairs, is this particular threshold value the best? If not, see\n",
    "if you can find a better one (and report its performance), or if so, explain why it is the best"
   ]
  },
  {
   "cell_type": "code",
   "execution_count": null,
   "metadata": {
    "collapsed": true
   },
   "outputs": [],
   "source": [
    "def method(valid):\n",
    "    thres =[]\n",
    "    acc =[]\n",
    "    for j in range(1,100):\n",
    "        t = (j*1.0)/100\n",
    "        return1 = set()\n",
    "        count = 0\n",
    "        for ic, i in mostPopular:\n",
    "            count += ic\n",
    "            return1.add(i)\n",
    "            if count > totalPurchases*t: break\n",
    "\n",
    "    \n",
    "        true =0\n",
    "        false =0\n",
    "        for l in valid:\n",
    "            u,i,check = l[0], l[1], l[2]\n",
    "            if i in return1 and check ==1:\n",
    "                true = true+1\n",
    "            if i not in return1 and check ==0:\n",
    "                false = false+1\n",
    "        \n",
    "\n",
    "        accu = 100.0*(true+false)/len(valid)\n",
    "        acc.append(accu)\n",
    "        thres.append(j)\n",
    "    return thres, acc"
   ]
  },
  {
   "cell_type": "code",
   "execution_count": null,
   "metadata": {
    "collapsed": true
   },
   "outputs": [],
   "source": [
    "from matplotlib import pyplot\n",
    "\n",
    "## for method 1\n",
    "x, y = method(valid)\n",
    "pyplot.plot(x, y)"
   ]
  },
  {
   "cell_type": "code",
   "execution_count": null,
   "metadata": {
    "collapsed": true
   },
   "outputs": [],
   "source": [
    "pyplot.show()"
   ]
  },
  {
   "cell_type": "code",
   "execution_count": null,
   "metadata": {
    "collapsed": true
   },
   "outputs": [],
   "source": [
    "n_thres = x[y.index(max(y))]"
   ]
  },
  {
   "cell_type": "code",
   "execution_count": null,
   "metadata": {
    "collapsed": true
   },
   "outputs": [],
   "source": [
    "y[0:10]"
   ]
  },
  {
   "cell_type": "markdown",
   "metadata": {},
   "source": [
    "The variance between the min ad max values are very neglible and every time the random samples are generated, the accuracy is changing little bit. So, there is no particular threshold value which is best instead all are equally good \n"
   ]
  },
  {
   "cell_type": "code",
   "execution_count": null,
   "metadata": {
    "collapsed": true
   },
   "outputs": [],
   "source": [
    "## for method2\n",
    "x, y = method(valid_1)"
   ]
  },
  {
   "cell_type": "code",
   "execution_count": null,
   "metadata": {
    "collapsed": true
   },
   "outputs": [],
   "source": [
    "pyplot.plot(x, y, color ='g')\n",
    "pyplot.show()"
   ]
  },
  {
   "cell_type": "code",
   "execution_count": null,
   "metadata": {
    "collapsed": true
   },
   "outputs": [],
   "source": [
    "n_thres = x[y.index(max(y))]"
   ]
  },
  {
   "cell_type": "code",
   "execution_count": null,
   "metadata": {
    "collapsed": true
   },
   "outputs": [],
   "source": [
    "print(\"n_thres :\" + str(n_thres))\n",
    "print(\"accuracy :\" + str(max(y)))"
   ]
  },
  {
   "cell_type": "markdown",
   "metadata": {},
   "source": [
    "For Method2 : the best threshold value is near 57-58 percentile"
   ]
  },
  {
   "cell_type": "markdown",
   "metadata": {},
   "source": [
    "\n",
    "Users may tend to repeatedly visit business of the same type. Build a baseline that returns ‘True’ if\n",
    "a user has visited a business of the same category before (at least one category in common), or zero\n",
    "otherwise"
   ]
  },
  {
   "cell_type": "code",
   "execution_count": null,
   "metadata": {
    "collapsed": true
   },
   "outputs": [],
   "source": [
    "data1 =[l for l in readGz(\"train.json.gz\")]\n",
    "train1 = data1[:len(data1)/2]"
   ]
  },
  {
   "cell_type": "code",
   "execution_count": null,
   "metadata": {
    "collapsed": true
   },
   "outputs": [],
   "source": [
    "category_business ={}\n",
    "category_user ={}\n",
    "\n",
    "for d in train1:\n",
    "    if d['businessID'] not in category_business:\n",
    "        category_business[d['businessID']] = d['categories']\n",
    "    else:\n",
    "        category_business[d['businessID']].extend(d['categories'])\n",
    "    if d['userID'] not in category_user:\n",
    "        category_user[d['userID']] = d['categories']\n",
    "    else:\n",
    "        category_user[d['userID']].extend(d['categories'])"
   ]
  },
  {
   "cell_type": "code",
   "execution_count": null,
   "metadata": {
    "collapsed": true,
    "scrolled": true
   },
   "outputs": [],
   "source": [
    "\n",
    "def acc(valid):\n",
    "    true =0\n",
    "    false =0\n",
    "\n",
    "    for l in valid:\n",
    "        u, i, label =l[0],l[1], l[2]\n",
    "        if u in category_user :\n",
    "            user = set(category_user[u])\n",
    "        if i in category_business:\n",
    "            business = set(category_business[i])\n",
    "    \n",
    "        common = set.intersection(user, business)\n",
    "\n",
    "        if len(common) !=0 and label==1:\n",
    "            true = true+1\n",
    "        if len(common) == 0 and label==0:\n",
    "            false = false+1\n",
    "    \n",
    "    accuracy = 100.0*(true+false)/len(valid)\n",
    "    return accuracy"
   ]
  },
  {
   "cell_type": "code",
   "execution_count": null,
   "metadata": {
    "collapsed": true
   },
   "outputs": [],
   "source": [
    "print (\"%Accuracy on validation on Method1: \" + str(acc(valid)))\n",
    "print (\"%Accuracy on validation on Method2: \" + str(acc(valid_1)))"
   ]
  },
  {
   "cell_type": "markdown",
   "metadata": {},
   "source": [
    "---\n",
    "\n",
    "To run our model on the test set, we’ll have to use the files ‘pairs Visit.txt’ to find the userID/businessID\n",
    "pairs about which we have to make predictions. Using that data, run the above model and upload your\n",
    "solution to Kaggle"
   ]
  },
  {
   "cell_type": "code",
   "execution_count": null,
   "metadata": {
    "collapsed": true
   },
   "outputs": [],
   "source": [
    "data1 =[l for l in readGz(\"train.json.gz\")]"
   ]
  },
  {
   "cell_type": "code",
   "execution_count": null,
   "metadata": {
    "collapsed": true
   },
   "outputs": [],
   "source": [
    "users = {}\n",
    "business = {}\n",
    "for d in train:\n",
    "    \n",
    "    if d['userID'] in users:\n",
    "        users[d['userID']].add(d['businessID'])\n",
    "    else:\n",
    "        users[d['userID']] = set()\n",
    "        users[d['userID']].add(d['businessID'])\n",
    "    \n",
    "    if d['businessID'] in business:\n",
    "        business[d['businessID']].add(d['userID'])\n",
    "    else:\n",
    "        business[d['businessID']] = set()\n",
    "        business[d['businessID']].add(d['userID'])"
   ]
  },
  {
   "cell_type": "code",
   "execution_count": null,
   "metadata": {
    "collapsed": true
   },
   "outputs": [],
   "source": [
    "def similarity(i, j):\n",
    "    num = len(users[i].intersection(users[j]))\n",
    "    den = (len(users[i])*len(users[j]))**0.5\n",
    "    return 1.0 * num / den"
   ]
  },
  {
   "cell_type": "code",
   "execution_count": null,
   "metadata": {
    "collapsed": true
   },
   "outputs": [],
   "source": [
    "def predict(u,b):\n",
    "    val =0\n",
    "    if u in users and b in business:\n",
    "        busi_visited = users[u]\n",
    "    \n",
    "        u_s = set()\n",
    "        for i in busi_visited:\n",
    "            u_s.update(business[i])\n",
    "            u_s -= set(u)\n",
    "        \n",
    "        pred = set()\n",
    "        for j in u_s:\n",
    "                \n",
    "            if similarity(u,j) > 0.005:\n",
    "                pred.update(users[j])\n",
    "    \n",
    "        val = 1 if b in pred else 0\n",
    "    return val"
   ]
  },
  {
   "cell_type": "code",
   "execution_count": null,
   "metadata": {
    "collapsed": true
   },
   "outputs": [],
   "source": [
    "predictions = open(\"predictions_Visit_mine_1.txt\", 'w')\n",
    "for l in open(\"pairs_Visit.txt\"):\n",
    "    if l.startswith(\"userID\"):\n",
    "        #header\n",
    "        predictions.write(l)\n",
    "        continue\n",
    "    \n",
    "    u,b = l.strip().split('-')\n",
    "    val = predict(u,b)\n",
    "    if val==1: \n",
    "        predictions.write(u + '-' + b + \",1\\n\")\n",
    "    else:\n",
    "        predictions.write(u + '-' + b + \",0\\n\")\n",
    "\n",
    "predictions.close()\n",
    "\n",
    "print(\"My Kaggle username is - 'Dragon' \")"
   ]
  },
  {
   "cell_type": "markdown",
   "metadata": {},
   "source": [
    "---\n",
    "# Rating Prediction\n",
    "Let’s start by building our training/validation sets much as we did for the first task. This time building a\n",
    "validation set is more straightforward, you can simply use half of the data for validation, and do not need to\n",
    "randomly sample non-visited users/businesses.\n"
   ]
  },
  {
   "cell_type": "code",
   "execution_count": null,
   "metadata": {
    "collapsed": true
   },
   "outputs": [],
   "source": [
    "import math\n",
    "\n",
    "valid = data1[len(data1)/2:]\n",
    "train = data1[:len(data1)/2]\n",
    "\n",
    "count= 0\n",
    "for d in train:\n",
    "    count += d['rating']\n",
    "\n",
    "alpha = count/len(train)\n",
    "print (\"alpha: \" + str(alpha))"
   ]
  },
  {
   "cell_type": "code",
   "execution_count": null,
   "metadata": {
    "collapsed": true
   },
   "outputs": [],
   "source": [
    "mse=0\n",
    "for d in valid:\n",
    "    mse += ((d['rating']- avg)**2)/len(valid) \n",
    "\n",
    "performance = 100.0*mse\n",
    "print(\"Performance: \" + str(performance))"
   ]
  },
  {
   "cell_type": "markdown",
   "metadata": {},
   "source": [
    "---\n",
    "\n",
    "Fit a predictor of the form\n",
    "<br> rating(user, item) 'α + βuser + βitem,\n",
    "by fitting the mean and the two bias terms as described in the lecture notes. Use a regularization\n",
    "parameter of λ = 1. Report the MSE on the validation set\n"
   ]
  },
  {
   "cell_type": "code",
   "execution_count": null,
   "metadata": {
    "collapsed": true
   },
   "outputs": [],
   "source": [
    "user = []\n",
    "busi = []\n",
    "count_u =[0]*18052\n",
    "count_b =[0]*20490\n",
    "\n",
    "for d in train1:\n",
    "    if d['userID'] not in user:\n",
    "        user.append(d['userID'])\n",
    "    count_u[user.index(d['userID'])] +=1\n",
    "        \n",
    "    if d['businessID'] not in busi:\n",
    "        busi.append(d['businessID'])\n",
    "    count_b[busi.index(d['businessID'])] +=1\n",
    "    \n",
    "    \n",
    "#user_map = {u : i for u,i in zip(user, range(len(user)))}\n",
    "user_map = {u:i for i, u in enumerate(user)}\n",
    "user_busi = {u:i for i, u in enumerate(busi)}"
   ]
  },
  {
   "cell_type": "code",
   "execution_count": null,
   "metadata": {
    "collapsed": true
   },
   "outputs": [],
   "source": [
    "busi_map = user_busi"
   ]
  },
  {
   "cell_type": "code",
   "execution_count": null,
   "metadata": {
    "collapsed": true
   },
   "outputs": [],
   "source": [
    "def loss_function(data, alpha, beta_u, beta_i,lam1,lam2, user_map, busi_map):\n",
    "    f =0.0\n",
    "    for x in data:\n",
    "        u_index = user_map[x['userID']]\n",
    "        b_index = busi_map[x['businessID']]\n",
    "        f += (alpha + beta_u[u_index] + beta_i[b_index] - x['rating'])**2\n",
    "    \n",
    "    f += lam1*(sum(u*u for u in beta_u)) + lam2*(sum(b*b for b in beta_i))\n",
    "    return f\n",
    "\n",
    "\n",
    "def update_parameters(data, alpha, beta_u, beta_i,lam1, lam2, user_map, busi_map):\n",
    "    alpha = 0\n",
    "    for x in data:\n",
    "        u_index = user_map[x['userID']]\n",
    "        b_index = busi_map[x['businessID']]\n",
    "        alpha += (1.0*(x['rating']- (beta_u[u_index] + beta_i[b_index])))/len(data)\n",
    "        \n",
    "    #print (loss_function(alpha, beta_u, beta_i,lam))\n",
    "    \n",
    "    beta_u  =[0.0]*len(beta_u)\n",
    "    for x in data:\n",
    "        u_index = user_map[x['userID']]\n",
    "        b_index = busi_map[x['businessID']]\n",
    "        beta_u[u_index] += (1.0*(x['rating'] - (alpha + beta_i[b_index])))/(lam1+ count_u[u_index])\n",
    "        \n",
    "    #print (loss_function(alpha, beta_u, beta_i,lam))\n",
    "        \n",
    "    beta_i = [0.0]*len(beta_i)\n",
    "    for x in data:\n",
    "        u_index = user_map[x['userID']]\n",
    "        b_index = busi_map[x['businessID']]\n",
    "        beta_i[b_index] += (1.0*(x['rating'] - (alpha + beta_u[u_index])))/(lam2+ count_b[b_index])\n",
    "    \n",
    "    #print (loss_function(alpha, beta_u, beta_i,lam))\n",
    "    \n",
    "    return alpha, beta_u, beta_i"
   ]
  },
  {
   "cell_type": "code",
   "execution_count": null,
   "metadata": {
    "collapsed": true
   },
   "outputs": [],
   "source": [
    "alpha = 0.0\n",
    "lam1 = 3.58\n",
    "lam2 = 4.68\n",
    "beta_u  =[0.0]*len(user)\n",
    "beta_i = [0.0]*len(busi)\n",
    "hst =[]\n",
    "\n",
    "def converge(data, alpha, beta_u, beta_i, lam1,lam2, user_map, busi_map):\n",
    "    \n",
    "    tolerance = 1e-2\n",
    "    loss =  loss_function(data, alpha, beta_u, beta_i,lam1,lam2, user_map, busi_map)\n",
    "    hst.append(loss)\n",
    "    loss = 0.0\n",
    "    while (abs(hst[-1] - loss) > tolerance) :\n",
    "        loss = hst[-1]\n",
    "        alpha, beta_u, beta_i =  update_parameters(data, alpha, beta_u, beta_i,lam1, lam2, user_map, busi_map)\n",
    "        #loss_function(data, alpha, beta_u, beta_i,lam))\n",
    "        hst.append(loss_function(data, alpha, beta_u, beta_i,lam1, lam2, user_map, busi_map))\n",
    "        print 10\n",
    "    return alpha, beta_u, beta_i"
   ]
  },
  {
   "cell_type": "code",
   "execution_count": null,
   "metadata": {
    "collapsed": true
   },
   "outputs": [],
   "source": [
    "f_alpha, f_beta_u, f_beta_i = converge(train1,alpha, beta_u, beta_i,lam1, lam2, user_map, busi_map)"
   ]
  },
  {
   "cell_type": "code",
   "execution_count": null,
   "metadata": {
    "collapsed": true
   },
   "outputs": [],
   "source": [
    "import pickle\n",
    "\n",
    "pickle.dump(hst, open(\"val_1\",\"wb\"))\n",
    "pickle.dump(f_alpha, open(\"alpha\",\"wb\"))\n",
    "pickle.dump(f_beta_u, open(\"beta_u\",\"wb\"))\n",
    "pickle.dump(f_beta_i, open(\"beta_i\",\"wb\"))"
   ]
  },
  {
   "cell_type": "code",
   "execution_count": null,
   "metadata": {
    "collapsed": true
   },
   "outputs": [],
   "source": [
    "valid = data1[len(data1)/2:]\n",
    "\n",
    "def error_cal(data, f_alpha, f_beta_u, f_beta_i, user_map, busi_map):\n",
    "    mse =0\n",
    "    for d in valid:\n",
    "        actual_val = d['rating']\n",
    "    \n",
    "        if d['userID'] in user and d['businessID'] in busi:\n",
    "            pred_val = f_alpha + f_beta_u[user_map[d['userID']]] + f_beta_i[busi_map[d['businessID']]]\n",
    "    \n",
    "        elif d['userID'] not in user and d['businessID'] in busi:\n",
    "            pred_val = f_alpha + f_beta_i[busi_map[d['businessID']]]\n",
    "    \n",
    "        elif d['businessID'] not in busi and d['userID'] in user:\n",
    "            pred_val = f_alpha + f_beta_u[user_map[d['userID']]]\n",
    "        \n",
    "        else:\n",
    "            pred_val = f_alpha\n",
    "        \n",
    "        mse += (pred_val - actual_val)**2\n",
    "\n",
    "    return mse/len(data)"
   ]
  },
  {
   "cell_type": "code",
   "execution_count": null,
   "metadata": {
    "collapsed": true
   },
   "outputs": [],
   "source": [
    "MSE = error_cal(valid, f_alpha, f_beta_u, f_beta_i, user_map, busi_map)\n",
    "print(\"MSE: \" + str(MSE))"
   ]
  },
  {
   "cell_type": "code",
   "execution_count": null,
   "metadata": {
    "collapsed": true
   },
   "outputs": [],
   "source": [
    "min_userID = user[f_beta_u.index(min(f_beta_u))]\n",
    "max_userID = user[f_beta_u.index(max(f_beta_u))]\n",
    "\n",
    "min_itemID = busi[f_beta_i.index(min(f_beta_i))]\n",
    "max_itemID = busi[f_beta_i.index(max(f_beta_i))]\n",
    "\n",
    "print(\"user with largest beta: \" + max_userID)\n",
    "print(\"user with smallest beta: \" + min_userID)\n",
    "print(\"item with largest beta: \" + max_itemID)\n",
    "print(\"item with smallest beta: \" + min_itemID)"
   ]
  },
  {
   "cell_type": "markdown",
   "metadata": {},
   "source": [
    "\n",
    "Find a better value of λ using your validation set. Report the value you chose, its MSE, and upload your\n",
    "solution to Kaggle by running it on the test data"
   ]
  },
  {
   "cell_type": "code",
   "execution_count": null,
   "metadata": {
    "collapsed": true
   },
   "outputs": [],
   "source": [
    "for lam in range(1,11):\n",
    "    f_alpha, f_beta_u, f_beta_i = converge(valid, alpha, beta_u, beta_i,lam)\n",
    "    MSE = error_cal(valid, f_alpha, f_beta_u, f_beta_i)\n",
    "    print(\"MSE: \" + str(MSE[lam-1]) + \" for lam :\" + str(lam))"
   ]
  },
  {
   "cell_type": "code",
   "execution_count": null,
   "metadata": {
    "collapsed": true
   },
   "outputs": [],
   "source": [
    "print ( \"better lam = \"+ str(4) + \" and MSE: \" + str(MSE[3]))"
   ]
  },
  {
   "cell_type": "code",
   "execution_count": null,
   "metadata": {
    "collapsed": true
   },
   "outputs": [],
   "source": [
    "user = []\n",
    "busi = []\n",
    "count_u =[0]*18793\n",
    "count_b =[0]*21321\n",
    "\n",
    "for d in data1:\n",
    "    if d['userID'] not in user:\n",
    "        user.append(d['userID'])\n",
    "    count_u[user.index(d['userID'])] +=1\n",
    "        \n",
    "    if d['businessID'] not in busi:\n",
    "        busi.append(d['businessID'])\n",
    "    count_b[busi.index(d['businessID'])] +=1\n",
    "    \n",
    "user_map = {u:i for i, u in enumerate(user)}\n",
    "user_busi = {u:i for i, u in enumerate(busi)}"
   ]
  },
  {
   "cell_type": "code",
   "execution_count": null,
   "metadata": {
    "collapsed": true
   },
   "outputs": [],
   "source": [
    "busi_map = user_busi"
   ]
  },
  {
   "cell_type": "code",
   "execution_count": null,
   "metadata": {
    "collapsed": true
   },
   "outputs": [],
   "source": [
    "alpha = 0.0\n",
    "lam1 = 4\n",
    "lam2 = 4.7\n",
    "beta_u  =[0.0]*len(user)\n",
    "beta_i = [0.0]*len(busi)\n",
    "hst =[]\n",
    "\n",
    "f_alpha, f_beta_u, f_beta_i = converge(data1, alpha, beta_u, beta_i,lam1, lam2, user_map, busi_map)"
   ]
  },
  {
   "cell_type": "code",
   "execution_count": null,
   "metadata": {
    "collapsed": true
   },
   "outputs": [],
   "source": [
    "pickle.dump(hst, open(\"val_2\",\"wb\"))\n",
    "pickle.dump(f_alpha, open(\"alpha_2\",\"wb\"))\n",
    "pickle.dump(f_beta_u, open(\"beta_u2\",\"wb\"))\n",
    "pickle.dump(f_beta_i, open(\"beta_i2\",\"wb\"))"
   ]
  },
  {
   "cell_type": "code",
   "execution_count": null,
   "metadata": {
    "collapsed": true
   },
   "outputs": [],
   "source": [
    "predictions = open(\"predictions_Rating_mine_lam.txt\", 'w')\n",
    "\n",
    "for l in open(\"pairs_Rating.txt\"):\n",
    "    if l.startswith(\"userID\"):\n",
    "    #header\n",
    "        predictions.write(l)\n",
    "        continue\n",
    "    u,i = l.strip().split('-')\n",
    "    \n",
    "    if u in user and i in busi:\n",
    "        pred_val = f_alpha + f_beta_u[user.index(u)] + f_beta_i[busi.index(i)]\n",
    "        if pred_val > 5:\n",
    "            pred_val = 5\n",
    "        if pred_val <0:\n",
    "            pred_val = 0\n",
    "        \n",
    "        predictions.write(u + '-' + i + ',' + str(pred_val) + '\\n')\n",
    "    \n",
    "    elif u not in user and i in busi:\n",
    "        pred_val = f_alpha + f_beta_i[busi.index(i)]\n",
    "        if pred_val > 5:\n",
    "            pred_val = 5\n",
    "        if pred_val <0:\n",
    "            pred_val = 0\n",
    "        \n",
    "        predictions.write(u + '-' + i + ',' + str(pred_val) + '\\n')\n",
    "    \n",
    "    elif i not in busi and u in user:\n",
    "        pred_val = f_alpha + f_beta_u[user.index(u)]\n",
    "        if pred_val > 5:\n",
    "            pred_val = 5\n",
    "        if pred_val <0:\n",
    "            pred_val = 0\n",
    "        \n",
    "        predictions.write(u + '-' + i + ',' + str(pred_val) + '\\n')\n",
    "\n",
    "    else:\n",
    "        pred_val = f_alpha\n",
    "        if pred_val > 5:\n",
    "            pred_val = 5\n",
    "        if pred_val <0:\n",
    "            pred_val = 0\n",
    "        \n",
    "        predictions.write(u + '-' + i + ',' + str(pred_val) + '\\n')\n",
    "\n",
    "predictions.close()\n"
   ]
  },
  {
   "cell_type": "code",
   "execution_count": null,
   "metadata": {
    "collapsed": true
   },
   "outputs": [],
   "source": []
  }
 ],
 "metadata": {
  "kernelspec": {
   "display_name": "Python 2",
   "language": "python",
   "name": "python2"
  },
  "language_info": {
   "codemirror_mode": {
    "name": "ipython",
    "version": 2
   },
   "file_extension": ".py",
   "mimetype": "text/x-python",
   "name": "python",
   "nbconvert_exporter": "python",
   "pygments_lexer": "ipython2",
   "version": "2.7.14"
  }
 },
 "nbformat": 4,
 "nbformat_minor": 2
}
