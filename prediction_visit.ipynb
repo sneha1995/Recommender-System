{
 "cells": [
  {
   "cell_type": "code",
   "execution_count": null,
   "metadata": {
    "collapsed": true
   },
   "outputs": [],
   "source": [
    "import gzip\n",
    "from collections import defaultdict\n",
    "\n",
    "def readGz(f):\n",
    "    for l in gzip.open(f):\n",
    "        yield eval(l)"
   ]
  },
  {
   "cell_type": "markdown",
   "metadata": {},
   "source": [
    "# Visit Prediction"
   ]
  },
  {
   "cell_type": "markdown",
   "metadata": {},
   "source": [
    "## Method1: When we are preserving Bias in data"
   ]
  },
  {
   "cell_type": "code",
   "execution_count": null,
   "metadata": {
    "collapsed": true
   },
   "outputs": [],
   "source": [
    "users =[]\n",
    "business = []\n",
    "total = set()\n",
    "for l in readGz(\"train.json.gz\"):\n",
    "    a = (l['userID'],l['businessID'])\n",
    "    total.add(a)\n",
    "    users += [l['userID']]\n",
    "    business += [l['businessID']]"
   ]
  },
  {
   "cell_type": "code",
   "execution_count": null,
   "metadata": {
    "collapsed": true
   },
   "outputs": [],
   "source": [
    "data =[]\n",
    "for l in readGz(\"train.json.gz\"):\n",
    "    data += [[l['userID'],l['businessID'],1]]"
   ]
  },
  {
   "cell_type": "code",
   "execution_count": null,
   "metadata": {
    "collapsed": true
   },
   "outputs": [],
   "source": [
    "from random import shuffle\n",
    "shuffle(users)\n",
    "shuffle(business)"
   ]
  },
  {
   "cell_type": "code",
   "execution_count": null,
   "metadata": {
    "collapsed": true
   },
   "outputs": [],
   "source": [
    "def check(user, business):\n",
    "    if (user, business) in total:\n",
    "            return False\n",
    "    return True"
   ]
  },
  {
   "cell_type": "code",
   "execution_count": null,
   "metadata": {
    "collapsed": true
   },
   "outputs": [],
   "source": [
    "from random import randint\n",
    "j =0\n",
    "negative = set()\n",
    "\n",
    "while (j < 100000):\n",
    "    x = randint(0, len(users)-1)\n",
    "    y = randint(0, len(business)-1)\n",
    "    if(check(users[x], business[y])) and (users[x], business[y]) not in negative:\n",
    "            a= (users[x], business[y])\n",
    "            negative.add(a)\n",
    "            j = j+1\n",
    "\n",
    "train = data[:len(data)/2]\n",
    "valid = data[len(data)/2:]\n",
    "\n",
    "new_n =[]\n",
    "for l in negative:\n",
    "    new_n += [list(l)]\n",
    "for l in new_n:\n",
    "    l.extend([0])\n",
    "\n",
    "valid += new_n"
   ]
  },
  {
   "cell_type": "code",
   "execution_count": null,
   "metadata": {
    "collapsed": true
   },
   "outputs": [],
   "source": [
    "import pickle\n",
    "\n",
    "pickle.dump(valid, open(\"valid_data\",\"wb\"))"
   ]
  },
  {
   "cell_type": "code",
   "execution_count": null,
   "metadata": {
    "collapsed": true
   },
   "outputs": [],
   "source": [
    "businessCount = defaultdict(int)\n",
    "totalPurchases = 0\n",
    "\n",
    "for l in train:\n",
    "    user,business = l[0],l[1]\n",
    "    businessCount[business] += 1\n",
    "    totalPurchases += 1\n",
    "\n",
    "mostPopular = [(businessCount[x], x) for x in businessCount]\n",
    "mostPopular.sort()\n",
    "mostPopular.reverse()\n"
   ]
  },
  {
   "cell_type": "code",
   "execution_count": null,
   "metadata": {
    "collapsed": true
   },
   "outputs": [],
   "source": [
    "return1 = set()\n",
    "count = 0\n",
    "for ic, i in mostPopular:\n",
    "    count += ic\n",
    "    return1.add(i)\n",
    "    if count > totalPurchases*0.5: break"
   ]
  },
  {
   "cell_type": "code",
   "execution_count": null,
   "metadata": {
    "collapsed": true
   },
   "outputs": [],
   "source": [
    "true =0\n",
    "false =0\n",
    "for l in valid:\n",
    "    u,i,check = l[0], l[1], l[2]\n",
    "    if i in return1 and check ==1:\n",
    "        true = true+1\n",
    "    if i not in return1 and check ==0:\n",
    "        false = false+1"
   ]
  },
  {
   "cell_type": "code",
   "execution_count": null,
   "metadata": {
    "collapsed": true
   },
   "outputs": [],
   "source": [
    "accuracy = 100.0*(true+false)/len(valid)\n",
    "print (\"%Accuracy on validation: \" + str(accuracy))"
   ]
  },
  {
   "cell_type": "markdown",
   "metadata": {},
   "source": [
    "## Method2: When we are not preserving Bias in data"
   ]
  },
  {
   "cell_type": "code",
   "execution_count": null,
   "metadata": {
    "collapsed": true
   },
   "outputs": [],
   "source": [
    "user = []\n",
    "busi = []\n",
    "\n",
    "for d in readGz(\"train.json.gz\"):\n",
    "    if d['userID'] not in user:\n",
    "        user.append(d['userID'])\n",
    "        \n",
    "    if d['businessID'] not in busi:\n",
    "        busi.append(d['businessID'])"
   ]
  },
  {
   "cell_type": "code",
   "execution_count": null,
   "metadata": {
    "collapsed": true
   },
   "outputs": [],
   "source": [
    "def check(user, business):\n",
    "    if (user, business) in total:\n",
    "            return False\n",
    "    return True"
   ]
  },
  {
   "cell_type": "code",
   "execution_count": null,
   "metadata": {
    "collapsed": true
   },
   "outputs": [],
   "source": [
    "from random import randint\n",
    "negative_1 =set()\n",
    "k =0\n",
    "while(k<50000):\n",
    "    x = randint(0, len(user)-1)\n",
    "    y = randint(0, len(busi)-1)\n",
    "    if check(user[x], busi[y]) and (user[x], busi[y]) not in negative_1:\n",
    "            a= (user[x], busi[y])\n",
    "            negative_1.add(a)\n",
    "            k = k+1"
   ]
  },
  {
   "cell_type": "code",
   "execution_count": null,
   "metadata": {
    "collapsed": true
   },
   "outputs": [],
   "source": [
    "new_n_1 =[]\n",
    "for l in negative_1:\n",
    "    new_n_1 += [list(l)]\n",
    "for l in new_n_1:\n",
    "    l.extend([0])\n",
    "    \n",
    "valid_1 = data[3*len(data)/4:] + new_n_1"
   ]
  },
  {
   "cell_type": "code",
   "execution_count": null,
   "metadata": {
    "collapsed": true
   },
   "outputs": [],
   "source": [
    "pickle.dump(valid_1, open(\"valid_data\",\"wb\"))"
   ]
  },
  {
   "cell_type": "code",
   "execution_count": null,
   "metadata": {
    "collapsed": true
   },
   "outputs": [],
   "source": [
    "true =0\n",
    "false =0\n",
    "for l in valid_1:\n",
    "    u,i,check = l[0], l[1], l[2]\n",
    "    if i in return1 and check ==1:\n",
    "        true = true+1\n",
    "    if i not in return1 and check ==0:\n",
    "        false = false+1"
   ]
  },
  {
   "cell_type": "code",
   "execution_count": null,
   "metadata": {
    "collapsed": true
   },
   "outputs": [],
   "source": [
    "accuracy = 100.0*(true+false)/len(valid)\n",
    "print (\"%Accuracy on validation: \" + str(accuracy))"
   ]
  },
  {
   "cell_type": "code",
   "execution_count": null,
   "metadata": {
    "collapsed": true
   },
   "outputs": [],
   "source": [
    "data1 =[l for l in readGz(\"train.json.gz\")]"
   ]
  },
  {
   "cell_type": "code",
   "execution_count": null,
   "metadata": {
    "collapsed": true
   },
   "outputs": [],
   "source": [
    "users = {}\n",
    "business = {}\n",
    "for d in train:\n",
    "    \n",
    "    if d['userID'] in users:\n",
    "        users[d['userID']].add(d['businessID'])\n",
    "    else:\n",
    "        users[d['userID']] = set()\n",
    "        users[d['userID']].add(d['businessID'])\n",
    "    \n",
    "    if d['businessID'] in business:\n",
    "        business[d['businessID']].add(d['userID'])\n",
    "    else:\n",
    "        business[d['businessID']] = set()\n",
    "        business[d['businessID']].add(d['userID'])"
   ]
  },
  {
   "cell_type": "code",
   "execution_count": null,
   "metadata": {
    "collapsed": true
   },
   "outputs": [],
   "source": [
    "def similarity(i, j):\n",
    "    num = len(users[i].intersection(users[j]))\n",
    "    den = (len(users[i])*len(users[j]))**0.5\n",
    "    return 1.0 * num / den"
   ]
  },
  {
   "cell_type": "code",
   "execution_count": null,
   "metadata": {
    "collapsed": true
   },
   "outputs": [],
   "source": [
    "def predict(u,b):\n",
    "    val =0\n",
    "    if u in users and b in business:\n",
    "        busi_visited = users[u]\n",
    "    \n",
    "        u_s = set()\n",
    "        for i in busi_visited:\n",
    "            u_s.update(business[i])\n",
    "            u_s -= set(u)\n",
    "        \n",
    "        pred = set()\n",
    "        for j in u_s:\n",
    "                \n",
    "            if similarity(u,j) > 0.005:\n",
    "                pred.update(users[j])\n",
    "    \n",
    "        val = 1 if b in pred else 0\n",
    "    return val"
   ]
  },
  {
   "cell_type": "code",
   "execution_count": null,
   "metadata": {
    "collapsed": true
   },
   "outputs": [],
   "source": [
    "predictions = open(\"predictions_Visit_mine_1.txt\", 'w')\n",
    "for l in open(\"pairs_Visit.txt\"):\n",
    "    if l.startswith(\"userID\"):\n",
    "        #header\n",
    "        predictions.write(l)\n",
    "        continue\n",
    "    \n",
    "    u,b = l.strip().split('-')\n",
    "    val = predict(u,b)\n",
    "    if val==1: \n",
    "        predictions.write(u + '-' + b + \",1\\n\")\n",
    "    else:\n",
    "        predictions.write(u + '-' + b + \",0\\n\")\n",
    "\n",
    "predictions.close()\n",
    "\n",
    "print(\"My Kaggle username is - 'Dragon' \")"
   ]
  }
 ],
 "metadata": {
  "kernelspec": {
   "display_name": "Python 2",
   "language": "python",
   "name": "python2"
  },
  "language_info": {
   "codemirror_mode": {
    "name": "ipython",
    "version": 2
   },
   "file_extension": ".py",
   "mimetype": "text/x-python",
   "name": "python",
   "nbconvert_exporter": "python",
   "pygments_lexer": "ipython2",
   "version": "2.7.14"
  }
 },
 "nbformat": 4,
 "nbformat_minor": 2
}
