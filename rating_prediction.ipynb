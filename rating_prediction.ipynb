{
 "cells": [
  {
   "cell_type": "code",
   "execution_count": null,
   "metadata": {
    "collapsed": true
   },
   "outputs": [],
   "source": [
    "import gzip\n",
    "from collections import defaultdict\n",
    "\n",
    "def readGz(f):\n",
    "    for l in gzip.open(f):\n",
    "        yield eval(l)"
   ]
  },
  {
   "cell_type": "markdown",
   "metadata": {},
   "source": [
    "# Rating Prediction\n",
    "\n",
    "\n"
   ]
  },
  {
   "cell_type": "code",
   "execution_count": 68,
   "metadata": {
    "collapsed": true
   },
   "outputs": [],
   "source": [
    "data =[l for l in readGz(\"train.json.gz\")]\n",
    "train = data[:len(data)/2]\n",
    "valid = data[len(data)/2:]"
   ]
  },
  {
   "cell_type": "code",
   "execution_count": 69,
   "metadata": {
    "collapsed": true
   },
   "outputs": [],
   "source": [
    "user = []\n",
    "busi = []\n",
    "#count_u =[0]*18052\n",
    "#count_b =[0]*20490\n",
    "\n",
    "for d in data:\n",
    "    if d['userID'] not in user:\n",
    "        user.append(d['userID'])\n",
    "    #count_u[user.index(d['userID'])] +=1\n",
    "        \n",
    "    if d['businessID'] not in busi:\n",
    "        busi.append(d['businessID'])\n",
    "    #count_b[busi.index(d['businessID'])] +=1\n",
    "\n",
    "    \n",
    "user_map = {u:i for i, u in enumerate(user)}\n",
    "busi_map = {b:i for i, b in enumerate(busi)}"
   ]
  },
  {
   "cell_type": "code",
   "execution_count": null,
   "metadata": {
    "collapsed": true
   },
   "outputs": [],
   "source": []
  },
  {
   "cell_type": "code",
   "execution_count": 70,
   "metadata": {
    "collapsed": true
   },
   "outputs": [],
   "source": [
    "ratings_user ={}\n",
    "ratings_busi ={}\n",
    "\n",
    "\n",
    "for d in data:\n",
    "   # u = user_map[d['userID']]\n",
    "   # b = busi_map[d['businessID']]\n",
    "    if d['userID'] not in ratings_user:\n",
    "        ratings_user[d['userID']] = []\n",
    "    ratings_user[d['userID']].append((d['businessID'], d['rating']))\n",
    "    \n",
    "    if d['businessID'] not in ratings_busi:\n",
    "        ratings_busi[d['businessID']] = []\n",
    "    ratings_busi[d['businessID']].append((d['userID'], d['rating']))\n",
    "    \n",
    "    "
   ]
  },
  {
   "cell_type": "code",
   "execution_count": 71,
   "metadata": {
    "collapsed": true
   },
   "outputs": [],
   "source": [
    "model = {\"users\": [], \"business\":[], \"lam\": 0 , \"alpha\" :0, \"k\":0 , \"user_map\":[], \"busi_map\":[], \"beta_u\" : [],\"beta_i\":[], \"g_u\":[], \"g_i\":[]} "
   ]
  },
  {
   "cell_type": "code",
   "execution_count": 72,
   "metadata": {
    "collapsed": true
   },
   "outputs": [],
   "source": [
    "import numpy as np"
   ]
  },
  {
   "cell_type": "code",
   "execution_count": 73,
   "metadata": {
    "collapsed": true
   },
   "outputs": [],
   "source": [
    "def update(train, model, ratings_user, ratings_busi): \n",
    "\n",
    "  # update alpha\n",
    "    model['alpha'] = 0.0\n",
    "    for d in train:\n",
    "        i = model['user_map'][d['userID']]\n",
    "        j = model['busi_map'][d['businessID']]\n",
    "        model['alpha'] += 1.0*(d['rating'] - model['beta_u'][i] - model['beta_i'][j] - model['g_u'][i,:].dot(model['g_i'][:,j]))/len(train)\n",
    "\n",
    "  # update Beta_user\n",
    "    for u in model['users']:\n",
    "        i = model['user_map'][u]\n",
    "        if u in ratings_user:\n",
    "            accum = 0.0\n",
    "            for b, r in ratings_user[u]:\n",
    "                j = model['busi_map'][b]\n",
    "                accum += (r - model['g_u'][i,:].dot(model['g_i'][:,j]) - model['beta_i'][j] - model['alpha'])\n",
    "            model['beta_u'][i] = accum / (1 + model['lam'] )/ len(ratings_user[u])\n",
    "\n",
    "  # update gamma_user\n",
    "    for u in model['users']:\n",
    "        i = model['user_map'][u]\n",
    "        if u in ratings_user:\n",
    "            matrix = np.zeros((model['k'],model['k'])) + model['lam']*np.eye(model['k'])\n",
    "            vector = np.zeros(model['k'])\n",
    "            for b, r in ratings_user[u]:\n",
    "                j = model['busi_map'][b]\n",
    "                matrix += np.outer(model['g_i'][:,j], model['g_i'][:,j])\n",
    "                vector += (r - model['beta_u'][i] - model['beta_i'][j] - model['alpha'])*model['g_i'][:,j]\n",
    "            model['g_u'][i,:] = np.linalg.solve(matrix, vector)\n",
    "\n",
    "  # update beta_business\n",
    "    for b in model['business']:\n",
    "        j = model['busi_map'][b]\n",
    "        if b in ratings_busi:\n",
    "            accum = 0.0\n",
    "            for u, r in ratings_busi[b]:\n",
    "                i = model['user_map'][u]\n",
    "                accum += (r - model['g_u'][i,:].dot(model['g_i'][:,j]) - model['beta_u'][i] - model['alpha'])\n",
    "            model['beta_i'][j] = accum / (1 + model['lam']) / len(ratings_busi[b])\n",
    "\n",
    "  # update gamma_business\n",
    "    for b in model['business']:\n",
    "        j = model['busi_map'][b]\n",
    "        if b in ratings_busi:\n",
    "            matrix = np.zeros((model['k'], model['k'])) + model['lam']*np.eye(model['k'])\n",
    "            vector = np.zeros(model['k'])\n",
    "            for u, r in ratings_busi[b]:\n",
    "                i = model['user_map'][u]\n",
    "                matrix += np.outer(model['g_u'][i,:], model['g_u'][i,:])\n",
    "                vector += (r - model['beta_u'][i] - model['beta_i'][j] - model['alpha'])*model['g_u'][i,:]\n",
    "            model['g_i'][:,j] = np.linalg.solve(matrix, vector)\n",
    "    \n",
    "    return model "
   ]
  },
  {
   "cell_type": "code",
   "execution_count": 10,
   "metadata": {
    "collapsed": true
   },
   "outputs": [],
   "source": [
    "def loss_function(data, model):\n",
    "    f =0.0\n",
    "    for d in data:\n",
    "        i = model['user_map'][d['userID']]\n",
    "        j = model['busi_map'][d['businessID']]\n",
    "        f += (model['alpha'] + model['beta_u'][i] + model['beta_i'][j] + model['g_u'][i,:].dot(model['g_i'][:,j])  - d['rating'])**2\n",
    "        \n",
    "    f += model['lam']*((model['beta_u']*model['beta_u']).sum() + (model['beta_i']*model['beta_i']).sum() + (model['g_u']*model['g_u']).sum() + (model['g_i']*model['g_i']).sum())\n",
    "    return f"
   ]
  },
  {
   "cell_type": "code",
   "execution_count": 13,
   "metadata": {
    "collapsed": true
   },
   "outputs": [],
   "source": [
    "def converge(train, valid, model, ratings_user, ratings_busi):\n",
    "    \n",
    "    old_loss = float(\"inf\")\n",
    "    loss =  loss_function(train, model)\n",
    "        \n",
    "    while ( loss< old_loss) :\n",
    "        old_loss = loss\n",
    "        model =  update(train, model, ratings_user, ratings_busi)\n",
    "        loss = loss_function(train, model)\n",
    "        print loss\n",
    "    return model"
   ]
  },
  {
   "cell_type": "code",
   "execution_count": 53,
   "metadata": {
    "collapsed": true
   },
   "outputs": [],
   "source": [
    "def error_cal(data, model):\n",
    "    f =0.0\n",
    "    mse =0.0\n",
    "    for d in data:\n",
    "        actual_val = d['rating']\n",
    "        \n",
    "        if d['userID'] in model['user_map'] and d['businessID'] in model['busi_map']:\n",
    "            i = model['user_map'][d['userID']]\n",
    "            j = model['busi_map'][d['businessID']]\n",
    "            f = model['alpha'] + model['beta_u'][i] + model['beta_i'][j] + model['g_u'][i,:].dot(model['g_i'][:,j])\n",
    "        \n",
    "        elif d['userID'] not in model['user_map'] and d['businessID'] in model['busi_map']:\n",
    "            j = model['busi_map'][d['businessID']]\n",
    "            f = model['alpha'] + model['beta_i'][j]\n",
    "        \n",
    "        elif d['businessID'] not in model['busi_map'] and d['userID'] in model['user_map']:\n",
    "            i = model['user_map'][d['userID']]\n",
    "            f = model['alpha'] + model['beta_u'][i]\n",
    "        \n",
    "        else:\n",
    "            f = model['alpha']\n",
    "        \n",
    "        mse += (f - actual_val)**2\n",
    "            \n",
    "    return mse/len(data)"
   ]
  },
  {
   "cell_type": "code",
   "execution_count": 74,
   "metadata": {
    "collapsed": true
   },
   "outputs": [],
   "source": [
    "model['users'] = user\n",
    "model['business'] = busi\n",
    "model['k'] = 10\n",
    "model['lam'] = 8.0\n",
    "model['user_map'] = user_map\n",
    "model['busi_map'] = busi_map\n",
    "model['g_u'] = np.random.randn(len(model['users']),model['k'])\n",
    "model['g_i'] = np.random.randn(model['k'], len(model['business']))\n",
    "model['beta_u'] = np.zeros(len(model['users']))\n",
    "model['beta_i'] = np.zeros(len(model['business']))\n",
    "model['alpha'] =0.0"
   ]
  },
  {
   "cell_type": "code",
   "execution_count": 66,
   "metadata": {
    "collapsed": true
   },
   "outputs": [],
   "source": [
    "def module_update(train, valid, model, ratings_user, ratings_busi):\n",
    "    \n",
    "    model =  update(train, model, ratings_user, ratings_busi)\n",
    "    old_mse_train = float(\"inf\")\n",
    "    old_mse_valid = float(\"inf\")\n",
    "    mse_valid = error_cal(valid, model)\n",
    "    mse_train = error_cal(train, model)\n",
    "    \n",
    "    count  =0\n",
    "    while(count < 50):\n",
    "        old_mse_train = mse_train\n",
    "        old_mse_valid = mse_valid\n",
    "        count += 1\n",
    "        model =  update(train, model, ratings_user, ratings_busi)\n",
    "        \n",
    "        mse_valid = error_cal(valid, model)\n",
    "        mse_train = error_cal(train, model)\n",
    "        print mse_valid, mse_train"
   ]
  },
  {
   "cell_type": "code",
   "execution_count": 75,
   "metadata": {
    "collapsed": true
   },
   "outputs": [],
   "source": [
    "count =0\n",
    "while ( count < 50):\n",
    "    model = update(data, model, ratings_user, ratings_busi)\n",
    "    count += 1"
   ]
  },
  {
   "cell_type": "code",
   "execution_count": 77,
   "metadata": {
    "collapsed": true
   },
   "outputs": [],
   "source": [
    "predictions = open(\"predictions_Rating_mine_1.txt\", 'w')\n",
    "\n",
    "for l in open(\"pairs_Rating.txt\"):\n",
    "    if l.startswith(\"userID\"):\n",
    "    #header\n",
    "        predictions.write(l)\n",
    "        continue\n",
    "    u,b = l.strip().split('-')\n",
    "    if u in model['user_map'] and b in model['busi_map']:\n",
    "        i = model['user_map'][u]\n",
    "        j = model['busi_map'][b]\n",
    "        f = model['alpha'] + model['beta_u'][i] + model['beta_i'][j] + model['g_u'][i,:].dot(model['g_i'][:,j])\n",
    "        predictions.write(u + '-' + b + ',' + str(f) + '\\n')\n",
    "    \n",
    "    elif u not in model['user_map'] and b in model['busi_map']:\n",
    "        j = model['busi_map'][b]\n",
    "        f = model['alpha'] + model['beta_i'][j]\n",
    "        predictions.write(u + '-' + b + ',' + str(f) + '\\n')\n",
    "        \n",
    "    elif b not in model['busi_map'] and u in model['user_map']:\n",
    "        i = model['user_map'][u]\n",
    "        f = model['alpha'] + model['beta_u'][i]\n",
    "        predictions.write(u + '-' + b + ',' + str(f) + '\\n')\n",
    "        \n",
    "    else:\n",
    "        f = model['alpha']\n",
    "        predictions.write(u + '-' + b + ',' + str(f) + '\\n')\n",
    "\n",
    "predictions.close()\n",
    "    "
   ]
  }
 ],
 "metadata": {
  "kernelspec": {
   "display_name": "Python 2",
   "language": "python",
   "name": "python2"
  },
  "language_info": {
   "codemirror_mode": {
    "name": "ipython",
    "version": 2
   },
   "file_extension": ".py",
   "mimetype": "text/x-python",
   "name": "python",
   "nbconvert_exporter": "python",
   "pygments_lexer": "ipython2",
   "version": "2.7.14"
  }
 },
 "nbformat": 4,
 "nbformat_minor": 2
}
